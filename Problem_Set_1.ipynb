{
  "nbformat": 4,
  "nbformat_minor": 0,
  "metadata": {
    "colab": {
      "name": "Problem Set 1.ipynb",
      "provenance": [],
      "authorship_tag": "ABX9TyOhW0cMlolOo6rvUmoyFzTc"
    },
    "kernelspec": {
      "name": "python3",
      "display_name": "Python 3"
    },
    "language_info": {
      "name": "python"
    }
  },
  "cells": [
    {
      "cell_type": "markdown",
      "source": [
        "**Question 1**"
      ],
      "metadata": {
        "id": "jXD37uEffVYj"
      }
    },
    {
      "cell_type": "markdown",
      "source": [
        "1. int\n",
        "2. Double\n",
        "3. Boolean\n",
        "4. Character\n",
        "5. int\n",
        "6. int\n",
        "7. int\n",
        "9. Double\n",
        "10. int\n",
        "11. int array\n",
        "12. Boolean\n",
        "13. Double"
      ],
      "metadata": {
        "id": "vIladuHNfgZl"
      }
    },
    {
      "cell_type": "markdown",
      "source": [
        "**Question 2**"
      ],
      "metadata": {
        "id": "2GjtBQP0fYUA"
      }
    },
    {
      "cell_type": "markdown",
      "source": [
        "```cs\n",
        "using System;\n",
        "\n",
        "public class Question2\n",
        "{\n",
        "\n",
        "    public static void Main(string[] args)\n",
        "    {\n",
        "        String word = \"Supercalifragilisticexpialidocious\";\n",
        "        //a\n",
        "        Console.WriteLine(word.Length);\n",
        "        //b\n",
        "        if(word.Contains(\"ice\")){\n",
        "            Console.WriteLine(\" \\n It contains ice\\n\");\n",
        "        }\n",
        "        //c\n",
        "        String word2 = \"Honorificabilitudinitatibus\";\n",
        "        if(word.Length>word2.Length){\n",
        "              Console.WriteLine(word+\" is the longer word. \\n\");\n",
        "        }else{\n",
        "            Console.WriteLine(word2+\" is the longer word.\\n\");\n",
        "        }\n",
        "\n",
        "        //d\n",
        "        String[] words = {\"Berlioz\",\"Borodin\", \"Brian\", \"Bartok\", \"Bellini\",\"Bernstein\", \"Buxtehude\",};\n",
        "        String firstWord = words[0];\n",
        "\n",
        "        for (int i = 0; i <6; i++) {\n",
        "\n",
        "            if(words[i].CompareTo(words[i+1])>0){\n",
        "                firstWord = words[i+1];\n",
        "            }\n",
        "        }\n",
        "        Console.WriteLine(\"The word \"+firstWord+\" comes first in the dictionary\");\n",
        "\n",
        "    }\n",
        "}\n",
        "```"
      ],
      "metadata": {
        "id": "UiGbHgjyfmVq"
      }
    },
    {
      "cell_type": "markdown",
      "source": [
        "**Question 3**"
      ],
      "metadata": {
        "id": "VidY5rhMfaLv"
      }
    },
    {
      "cell_type": "markdown",
      "source": [
        "```cs\n",
        "using System;\n",
        "\n",
        "public class Question3\n",
        "{\n",
        "\n",
        "public static void Main(string[] args)\n",
        "{\n",
        "    double triangleArea(int a, int b, int c){\n",
        "    double area;\n",
        "    double s = (a+b+b)/2;\n",
        "    double x = s*(s-a)*(s-b)*(s-c);\n",
        "\n",
        "    area = Math.Sqrt(x);\n",
        "    return area;\n",
        "        \n",
        "    }\n",
        "    Console.WriteLine(triangleArea(2,2,2));\n",
        "}\n",
        "\n",
        "}\n",
        "```"
      ],
      "metadata": {
        "id": "oxor7Nl0gLUU"
      }
    },
    {
      "cell_type": "markdown",
      "source": [
        "**Question 4**"
      ],
      "metadata": {
        "id": "wVdA71NXfcAk"
      }
    },
    {
      "cell_type": "markdown",
      "source": [
        "```cs\n",
        "using System;\n",
        "\n",
        "public class Question4\n",
        "{\n",
        "\n",
        "public static void Main(string[] args)\n",
        "{\n",
        "    Console.WriteLine(\"Input the number of elements to be stored in the array: \");\n",
        "    int n = Convert.ToInt32(Console.ReadLine());\n",
        "    Console.WriteLine(\"Input \"+n+\" Elements \");\n",
        "    int[] arr = new int[n];\n",
        "    for(int i = 0; i<arr.Length;i++){\n",
        "    Console.WriteLine(\"element - \"+i+ \" : \");\n",
        "    arr[i]=Convert.ToInt32(Console.ReadLine());\n",
        "    }\n",
        "\n",
        "    int[] odd={},even={};\n",
        "    int e=0,o=0;\n",
        "    for(int i = 0; i<arr.Length;i++){\n",
        "        if(arr[i]%2==0){\n",
        "            Array.Resize(ref even, even.Length + 1);\n",
        "            even[even.Length-1]=arr[i];\n",
        "        }else{\n",
        "            Array.Resize(ref odd, odd.Length + 1);\n",
        "            odd[odd.Length-1]=arr[i];\n",
        "        }\n",
        "    }\n",
        "\n",
        "    Console.WriteLine(\"The even elements are:\");\n",
        "    for(int i = 0; i<even.Length;i++){\n",
        "        Console.WriteLine(even[i]);\n",
        "    }\n",
        "\n",
        "    Console.WriteLine(\"The odd elements are:\");\n",
        "    for(int i = 0; i<odd.Length;i++){\n",
        "        Console.WriteLine(odd[i]);\n",
        "    }\n",
        "}\n",
        "\n",
        "}\n",
        "\n",
        "```"
      ],
      "metadata": {
        "id": "eaaep25VgSFf"
      }
    },
    {
      "cell_type": "markdown",
      "source": [
        "**Question 5**"
      ],
      "metadata": {
        "id": "Jr6P7i6afdsU"
      }
    },
    {
      "cell_type": "markdown",
      "source": [
        "```cs\n",
        "using System;\n",
        "\n",
        "public class Question5\n",
        "{\n",
        "\n",
        "public static void Main(string[] args)\n",
        " {\n",
        "    Boolean inside(int x,int y, int x1, int y1, int x2, int y2)\n",
        "    {\n",
        "        if(x >= x1 && x<=x2){\n",
        "            if(y >= y1 && y<= y2){\n",
        "                return true;\n",
        "            }else{\n",
        "                return false;\n",
        "            }\n",
        "        }else{return false;}\n",
        "\n",
        "    }\n",
        "    Console.WriteLine(inside(1,1,0,0,2,3));\n",
        "  } \n",
        "}\n",
        "\n",
        "```"
      ],
      "metadata": {
        "id": "exAEzseQglXy"
      }
    },
    {
      "cell_type": "markdown",
      "source": [
        "\n",
        "**Question 6**\n",
        "\n"
      ],
      "metadata": {
        "id": "LKgabHGseMrZ"
      }
    },
    {
      "cell_type": "code",
      "execution_count": 27,
      "metadata": {
        "colab": {
          "base_uri": "https://localhost:8080/"
        },
        "id": "IoyhIMWHCF1s",
        "outputId": "6e76561e-c43a-4d76-dc14-f6e3b8d84931"
      },
      "outputs": [
        {
          "output_type": "stream",
          "name": "stdout",
          "text": [
            "appyhay\n"
          ]
        }
      ],
      "source": [
        "def pig(value):\n",
        "  if(value[:1].lower() == 'a' or  value[:1].lower() == 'e' or value[:1].lower() == 'i' or value[:1].lower() == 'o' or value[:1].lower() == 'u'):\n",
        "    value = value + 'way'\n",
        "  else:\n",
        "    value = value[1:] + value[:1] + 'ay'\n",
        "  return value.lower()\n",
        "\n",
        "print(pig(\"happy\"))"
      ]
    },
    {
      "cell_type": "markdown",
      "source": [
        "**Question 7**"
      ],
      "metadata": {
        "id": "_mjnGqh_eVox"
      }
    },
    {
      "cell_type": "code",
      "source": [
        "def bldcount(file):\n",
        "  AB = 0\n",
        "  B = 0\n",
        "  O = 0\n",
        "  A = 0\n",
        "  OO = 0\n",
        "  with open(file,\"r\") as input:\n",
        "    lines = input.read()\n",
        "    field = lines.strip().split(\" \")\n",
        "\n",
        "    for i in field: \n",
        "      if(i == 'AB'):\n",
        "        AB += 1\n",
        "      elif(i == 'B'):\n",
        "        B += 1\n",
        "      elif(i == 'O'):\n",
        "        O += 1\n",
        "      elif(i == 'A'):\n",
        "        A += 1\n",
        "      else:\n",
        "        OO += 1\n",
        "\n",
        "    if(A > 1):\n",
        "      print(\"There are \" + str(A) + \" patients of blood type A.\")\n",
        "    else:\n",
        "      if(A == 1):\n",
        "        print(\"There are one patients of blood type A.\")\n",
        "      else:\n",
        "        print(\"There are no patients of blood type A.\")\n",
        "    \n",
        "    if(B > 1):\n",
        "      print(\"There are \" + str(B) + \" patients of blood type B.\")\n",
        "    else:\n",
        "      if(B == 1):\n",
        "        print(\"There are one patients of blood type B.\")\n",
        "      else:\n",
        "        print(\"There are no patients of blood type B.\")\n",
        "    \n",
        "    if(AB > 1):\n",
        "      print(\"There are \" + str(AB) + \" patients of blood type AB.\")\n",
        "    else:\n",
        "      if(AB == 1):\n",
        "        print(\"There are one patients of blood type AB.\")\n",
        "      else:\n",
        "        print(\"There are no patients of blood type AB.\")\n",
        "\n",
        "    if(O > 1):\n",
        "      print(\"There are \" + str(O) + \" patients of blood type O.\")\n",
        "    else:\n",
        "      if(O == 1):\n",
        "        print(\"There are one patients of blood type O.\")\n",
        "      else:\n",
        "        print(\"There are no patients of blood type O.\")\n",
        "\n",
        "    if(OO > 1):\n",
        "      print(\"There are \" + str(OO) + \" patients of blood type OO.\")\n",
        "    else:\n",
        "      if(OO == 1):\n",
        "        print(\"There are one patients of blood type OO.\")\n",
        "      else:\n",
        "        print(\"There are no patients of blood type OO.\")\n",
        "    \n",
        "\n",
        "bldcount('bloodtype.txt')"
      ],
      "metadata": {
        "colab": {
          "base_uri": "https://localhost:8080/"
        },
        "id": "4pLBNkzfFi0U",
        "outputId": "19642664-4082-4724-ba6a-76e4361b9dd0"
      },
      "execution_count": 12,
      "outputs": [
        {
          "output_type": "stream",
          "name": "stdout",
          "text": [
            "There are 15 patients of blood type A.\n",
            "There are one patients of blood type B.\n",
            "There are 13 patients of blood type AB.\n",
            "There are 15 patients of blood type O.\n",
            "There are no patients of blood type OO.\n"
          ]
        }
      ]
    },
    {
      "cell_type": "markdown",
      "source": [
        "**Question 8**"
      ],
      "metadata": {
        "id": "RdGLJ3aVeY91"
      }
    },
    {
      "cell_type": "code",
      "source": [
        "def curconv(currency, amount):\n",
        "  with open(\"currencies.txt\",\"r\") as input:\n",
        "    lines = input.readlines()\n",
        "    for line in lines:\n",
        "        if line.startswith(currency):\n",
        "          field = line.strip().split(\" \")\n",
        "          return amount * float(field[1])\n",
        "       \n",
        "print(curconv('EUR', 100))"
      ],
      "metadata": {
        "colab": {
          "base_uri": "https://localhost:8080/"
        },
        "id": "WxuInmgUHC5K",
        "outputId": "33ab4970-2793-47b4-f7aa-03a0fc3666b5"
      },
      "execution_count": 1,
      "outputs": [
        {
          "output_type": "stream",
          "name": "stdout",
          "text": [
            "122.96544\n"
          ]
        }
      ]
    },
    {
      "cell_type": "markdown",
      "source": [
        "**Question 9**"
      ],
      "metadata": {
        "id": "lsDJ5DLUeb7_"
      }
    },
    {
      "cell_type": "markdown",
      "source": [
        "1. **print(6 + 'a')** = TypeError: unsupported operand type(s) for +: 'int' and 'str'\n",
        "2. **Referring to the 12th item of a list that has only 10 items** = IndexError: list index out of range\n",
        "3. **Using a value that is out ofrange for a function’s input, such as calling math.sqrt(-1.0)** = ValueError: math domain error\n",
        "4. **Using an undeclared variable, such as print(x) when x has not been defined** = NameError: name 'x' is not defined\n",
        "5. **Trying to open a file that does not exist, such as mistyping the file name or looking in the wrong directory** = IOError: No such file or directory if directory does not exist"
      ],
      "metadata": {
        "id": "FEc8qdHYetnV"
      }
    },
    {
      "cell_type": "markdown",
      "source": [
        "**Question 10**"
      ],
      "metadata": {
        "id": "JBaXhRFVekKU"
      }
    },
    {
      "cell_type": "code",
      "source": [
        "def frequencies(value):\n",
        "  result = []\n",
        "  result.append(value.count('a'))\n",
        "  result.append(value.count('b'))\n",
        "  result.append(value.count('c'))\n",
        "  result.append(value.count('d'))\n",
        "  result.append(value.count('e'))\n",
        "  result.append(value.count('f'))\n",
        "  result.append(value.count('g'))\n",
        "  result.append(value.count('h'))\n",
        "  result.append(value.count('i'))\n",
        "  result.append(value.count('j'))\n",
        "  result.append(value.count('k'))\n",
        "  result.append(value.count('l'))\n",
        "  result.append(value.count('m'))\n",
        "  result.append(value.count('n'))\n",
        "  result.append(value.count('o'))\n",
        "  result.append(value.count('p'))\n",
        "  result.append(value.count('q'))\n",
        "  result.append(value.count('r'))\n",
        "  result.append(value.count('s'))\n",
        "  result.append(value.count('t'))\n",
        "  result.append(value.count('u'))\n",
        "  result.append(value.count('v'))\n",
        "  result.append(value.count('w'))\n",
        "  result.append(value.count('x'))\n",
        "  result.append(value.count('y'))\n",
        "  result.append(value.count('z'))\n",
        "  return result\n",
        "\n",
        "print(frequencies('The quick red fox got bored and went home.'))"
      ],
      "metadata": {
        "colab": {
          "base_uri": "https://localhost:8080/"
        },
        "id": "VMmC7-o_VUdM",
        "outputId": "be1f24b0-178c-48e6-bc54-5c3e1f4d2861"
      },
      "execution_count": 2,
      "outputs": [
        {
          "output_type": "stream",
          "name": "stdout",
          "text": [
            "[1, 1, 1, 3, 5, 1, 1, 2, 1, 0, 1, 0, 1, 2, 4, 0, 1, 2, 0, 2, 1, 0, 1, 1, 0, 0]\n"
          ]
        }
      ]
    }
  ]
}